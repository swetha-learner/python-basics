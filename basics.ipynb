{
 "cells": [
  {
   "cell_type": "markdown",
   "metadata": {},
   "source": [
    "# BASICS OF PYTHON\n"
   ]
  },
  {
   "cell_type": "code",
   "execution_count": null,
   "metadata": {
    "scrolled": true
   },
   "outputs": [],
   "source": [
    "print(\"hello world\")"
   ]
  },
  {
   "cell_type": "markdown",
   "metadata": {},
   "source": [
    "# basic types of python\n"
   ]
  },
  {
   "cell_type": "code",
   "execution_count": null,
   "metadata": {},
   "outputs": [],
   "source": [
    "print(False)\n",
    "print(\"swetha udayakumar\")\n",
    "print(6/2)\n",
    "print(type(6))\n",
    "print(type(\"swetha udayakumar\"))\n",
    "print(type(\"3.4\"))\n",
    "print(type(False))"
   ]
  },
  {
   "cell_type": "markdown",
   "metadata": {},
   "source": [
    "# Arithmetic Operators"
   ]
  },
  {
   "cell_type": "code",
   "execution_count": null,
   "metadata": {},
   "outputs": [],
   "source": [
    "print(2+3)\n",
    "print(2-3)\n",
    "print(2*3)\n",
    "print(2**3) \n",
    "print(7/3)\n",
    "print(7//3) #floor\n",
    "print(7%2)"
   ]
  },
  {
   "cell_type": "code",
   "execution_count": null,
   "metadata": {},
   "outputs": [],
   "source": [
    "print(2*4.4)\n",
    "print(4/2.2)\n",
    "print(4.3/2.2)\n",
    "print(6/2)"
   ]
  },
  {
   "cell_type": "code",
   "execution_count": null,
   "metadata": {},
   "outputs": [],
   "source": [
    "list1=['swetha',2,3.4]\n",
    "print(list1)\n",
    "list1[0]= 'ranga'\n",
    "print(list1)"
   ]
  },
  {
   "cell_type": "markdown",
   "metadata": {},
   "source": [
    "# list"
   ]
  },
  {
   "cell_type": "code",
   "execution_count": null,
   "metadata": {},
   "outputs": [],
   "source": [
    "list1=[1,2,3,4,5]\n",
    "print(list1)\n",
    "print(type(list1))\n",
    "\n",
    "list2=[6,2,'swetha',\"koushi\",True]\n",
    "print(list2)"
   ]
  },
  {
   "cell_type": "markdown",
   "metadata": {},
   "source": [
    "# list indexing"
   ]
  },
  {
   "cell_type": "code",
   "execution_count": null,
   "metadata": {},
   "outputs": [],
   "source": [
    "print(list2[0])\n",
    "print(list2[1])\n",
    "print(list2[2])\n"
   ]
  },
  {
   "cell_type": "markdown",
   "metadata": {},
   "source": [
    "# updating list"
   ]
  },
  {
   "cell_type": "code",
   "execution_count": null,
   "metadata": {},
   "outputs": [],
   "source": [
    "list2[0]= \"krish\"\n",
    "print(list2)\n"
   ]
  },
  {
   "cell_type": "code",
   "execution_count": null,
   "metadata": {},
   "outputs": [],
   "source": [
    "print(list1+list2)\n",
    "#print(list1-list2)\n",
    "#print(list1*list2)\n",
    "print(list1*2)"
   ]
  },
  {
   "cell_type": "markdown",
   "metadata": {},
   "source": [
    "# list slicing"
   ]
  },
  {
   "cell_type": "code",
   "execution_count": null,
   "metadata": {},
   "outputs": [],
   "source": [
    "list1=[1,2,3,4,5,6,7,8,9,10]\n",
    "print(list1[0:4]) #[start index : stop index+1]\n",
    "print(list1[6:10])\n",
    "print(list1[2:0])\n",
    "\n",
    "print(list1[0:7:2])\n",
    "print(list1[1:8:3])\n",
    "print(list1[:4])\n",
    "print(list1[6:])\n",
    "\n"
   ]
  },
  {
   "cell_type": "markdown",
   "metadata": {},
   "source": [
    "# negative slicing"
   ]
  },
  {
   "cell_type": "code",
   "execution_count": null,
   "metadata": {},
   "outputs": [],
   "source": [
    "print(list1[-1])\n",
    "print(list1[-2])\n",
    "print(list1[-4:])\n",
    "print(list1[-10:-3:2])\n",
    "print(list1[::-1])\n",
    "print(list1[::2])\n",
    "print(list1[::-2])"
   ]
  },
  {
   "cell_type": "markdown",
   "metadata": {},
   "source": [
    "# list functions"
   ]
  },
  {
   "cell_type": "code",
   "execution_count": null,
   "metadata": {},
   "outputs": [],
   "source": [
    "print(list1)\n",
    "print(len(list1))     #length\n",
    "list1.append(\"a\")\n",
    "print(list1)          #append\n",
    "list1.append([45,46])\n",
    "print(list1)\n",
    "list1.insert(4,\"python\")  #insert\n",
    "print(list1)\n",
    "list1.insert(4,\"swe\") #insert diff element in same index\n",
    "print(list1)\n",
    "list2=[\"hello\",\"world\"]\n",
    "list1.extend(list2) #extend\n",
    "print(list1)\n",
    "list2=[5,6,7,8,9]\n",
    "list2.sort()   #sort\n",
    "print(list2)\n",
    "list2.sort(reverse=True) #reversing\n",
    "print(list2)\n"
   ]
  },
  {
   "cell_type": "markdown",
   "metadata": {},
   "source": [
    "# string formating\n"
   ]
  },
  {
   "cell_type": "code",
   "execution_count": null,
   "metadata": {},
   "outputs": [],
   "source": [
    "num1=10\n",
    "num2=4.2\n",
    " \n",
    "#method1\n",
    "print(\"value of number 1 is %d and 2 is %f\" %(num1,num2))\n"
   ]
  },
  {
   "cell_type": "markdown",
   "metadata": {},
   "source": [
    "# user inputs"
   ]
  },
  {
   "cell_type": "code",
   "execution_count": null,
   "metadata": {},
   "outputs": [],
   "source": [
    "name = input(\"enter your name:\")\n",
    "print(\"hello\",name)\n",
    "\n",
    "num=int(input(\"enter the number\"))\n",
    "print(num)\n",
    "print(type(num))"
   ]
  },
  {
   "cell_type": "markdown",
   "metadata": {},
   "source": [
    "# conditional statements"
   ]
  },
  {
   "cell_type": "code",
   "execution_count": null,
   "metadata": {},
   "outputs": [],
   "source": [
    "value=101                      #if condition\n",
    "if value>100:\n",
    "    print(\"greater than 100\")\n",
    "else:\n",
    "    print(\"lesser tha 100\")\n",
    "print(\"successfull\")"
   ]
  },
  {
   "cell_type": "code",
   "execution_count": null,
   "metadata": {},
   "outputs": [],
   "source": [
    "value=100                          #nested if\n",
    "if value>100:\n",
    "    print(\"greater than 100\")\n",
    "elif value == 100:\n",
    "    print(\"equals to 100\")\n",
    "else:\n",
    "    print(\"less than 100\")"
   ]
  },
  {
   "cell_type": "code",
   "execution_count": null,
   "metadata": {},
   "outputs": [],
   "source": [
    "fruit= 'Apple'                    #boolean outputs\n",
    "x= False\n",
    "if fruit=='Apple':\n",
    "    x=True\n",
    "else:\n",
    "    x=False\n",
    "print(x)"
   ]
  },
  {
   "cell_type": "code",
   "execution_count": null,
   "metadata": {},
   "outputs": [],
   "source": [
    "fruit= 'Apple'               #single line statements\n",
    "x= False \n",
    "x= True if fruit =='Apple' else False\n",
    "print(x)"
   ]
  },
  {
   "cell_type": "code",
   "execution_count": null,
   "metadata": {},
   "outputs": [],
   "source": [
    "value=100\n",
    "print(\"lesser than 100\") if value>100 else print(\"greater than 100\")"
   ]
  },
  {
   "cell_type": "markdown",
   "metadata": {},
   "source": [
    "# dictionary"
   ]
  },
  {
   "cell_type": "markdown",
   "metadata": {},
   "source": [
    "- key:value pair   \n",
    "- keys are unique and immutable and value can be anything\n",
    "- creating dictionary and accessing elements"
   ]
  },
  {
   "cell_type": "code",
   "execution_count": null,
   "metadata": {},
   "outputs": [],
   "source": [
    "dict1={'jan':31, 'feb':29, 'mar':31}\n",
    "print(dict1)\n",
    "print(type(dict1))\n",
    "print(dict1['jan'])   #accessing elements\n",
    "dict1['feb'] = 28     #assigning\\ updation\n",
    "print(dict1)\n",
    "dict1['april']=30    #adding new key to existing dictionary\n",
    "print(dict1)"
   ]
  },
  {
   "cell_type": "code",
   "execution_count": null,
   "metadata": {},
   "outputs": [],
   "source": [
    "dict3= {'list1': [1,2,'True','False']}\n",
    "print(dict3)\n",
    "print(dict3['list1'])"
   ]
  },
  {
   "cell_type": "markdown",
   "metadata": {},
   "source": [
    "# functions"
   ]
  },
  {
   "cell_type": "code",
   "execution_count": null,
   "metadata": {},
   "outputs": [],
   "source": [
    "dict1={'jan':31, 'feb':29, 'mar':31} #length method\n",
    "print(len(dict1))"
   ]
  },
  {
   "cell_type": "code",
   "execution_count": null,
   "metadata": {},
   "outputs": [],
   "source": [
    "print(dict1.get('jan'))   #get method\n",
    "print(dict1.get('feb'))\n",
    "\n",
    "print(dict1.get('apr'))\n",
    "print(dict1.get('apr',30)) #get method with 2 arguments\n",
    "\n",
    "print(dict1.items())\n",
    "print(type(dict1.items()))\n",
    "print(list(dict1.items()))  #output in list format\n",
    "\n",
    "\n",
    "print(dict1.keys())         #key method\n",
    "print(type(dict1.keys()))\n",
    "print(list(dict1.keys()))\n",
    "\n",
    "print(dict1.values())       #values method\n",
    "print(type(dict1.values()))\n",
    "print(list(dict1.values()))\n"
   ]
  },
  {
   "cell_type": "markdown",
   "metadata": {},
   "source": [
    "# Tuple"
   ]
  },
  {
   "cell_type": "markdown",
   "metadata": {},
   "source": [
    "- collection of elements , mixed types"
   ]
  },
  {
   "cell_type": "code",
   "execution_count": null,
   "metadata": {},
   "outputs": [],
   "source": [
    "tuple2=(6,2,'swetha',\"koushi\",True)\n",
    "print(type(tuple2))\n",
    "print(tuple2)\n",
    "\n",
    "print(tuple2[:2])\n",
    "print(tuple2[-2:])\n",
    "print(list(tuple2[::-1]))  #typecasting with reversing\n",
    "\n",
    "#append, insert, update, remove ---- wont work in tuple."
   ]
  },
  {
   "cell_type": "markdown",
   "metadata": {},
   "source": [
    "# Loop"
   ]
  },
  {
   "cell_type": "code",
   "execution_count": null,
   "metadata": {},
   "outputs": [],
   "source": [
    "element = int(input(\"enter elemet\"))\n",
    "for element in range(element):\n",
    "    print(\"its inside loop\")\n",
    "print(\"thankyou\")"
   ]
  },
  {
   "cell_type": "code",
   "execution_count": 11,
   "metadata": {},
   "outputs": [
    {
     "name": "stdout",
     "output_type": "stream",
     "text": [
      "hello world\n",
      "hello world\n",
      "hello world\n",
      "hello world\n",
      "hello world\n",
      "hello world\n",
      "hello world\n",
      "hello world\n",
      "hello world\n",
      "hello world\n",
      "1\n",
      "2\n",
      "3\n",
      "4\n",
      "5\n"
     ]
    }
   ],
   "source": [
    "for element in range(10):\n",
    "    print(\"hello world\")\n",
    "for num in range(1,6):\n",
    "    print(num)\n"
   ]
  },
  {
   "cell_type": "code",
   "execution_count": 5,
   "metadata": {},
   "outputs": [
    {
     "name": "stdout",
     "output_type": "stream",
     "text": [
      "a\n",
      "hello A\n",
      "b\n",
      "hello B\n",
      "c\n",
      "hello C\n",
      "d\n",
      "hello D\n",
      "e\n",
      "hello E\n"
     ]
    }
   ],
   "source": [
    "list1=['a','b','c','d','e']\n",
    "for element in list1:\n",
    "    print(element)\n",
    "    print(\"hello\",element.upper())"
   ]
  },
  {
   "cell_type": "code",
   "execution_count": 7,
   "metadata": {},
   "outputs": [
    {
     "name": "stdout",
     "output_type": "stream",
     "text": [
      "[61, 62, 63, 64, 65]\n"
     ]
    }
   ],
   "source": [
    "list1=['a','b','c','d','e']\n",
    " \n",
    "roll=[]\n",
    "for num in range(len(list1)):\n",
    "    roll.append(61+num)\n",
    "print(roll)"
   ]
  },
  {
   "cell_type": "code",
   "execution_count": 12,
   "metadata": {},
   "outputs": [
    {
     "name": "stdout",
     "output_type": "stream",
     "text": [
      "2\n",
      "4\n",
      "6\n",
      "8\n",
      "10\n",
      "@@@@@@\n"
     ]
    }
   ],
   "source": [
    "for num in range(1,11):\n",
    "    if num%2==0:\n",
    "        print(num)\n",
    "print(\"@@@@@@\")\n"
   ]
  },
  {
   "cell_type": "markdown",
   "metadata": {},
   "source": [
    "# while loop"
   ]
  },
  {
   "cell_type": "code",
   "execution_count": 13,
   "metadata": {},
   "outputs": [
    {
     "name": "stdout",
     "output_type": "stream",
     "text": [
      "hello\n",
      "hello\n",
      "hello\n",
      "hello\n",
      "hello\n"
     ]
    }
   ],
   "source": [
    "num=0\n",
    "while num<5:\n",
    "    print(\"hello\")\n",
    "    num+=1  #prints output infinite tyms without increment"
   ]
  },
  {
   "cell_type": "code",
   "execution_count": 14,
   "metadata": {},
   "outputs": [
    {
     "name": "stdout",
     "output_type": "stream",
     "text": [
      "[2, 3, 4, 5]\n",
      "[1]\n",
      "[3, 4, 5]\n",
      "[1, 2]\n",
      "[4, 5]\n",
      "[1, 2, 3]\n",
      "[5]\n",
      "[1, 2, 3, 4]\n",
      "[]\n",
      "[1, 2, 3, 4, 5]\n"
     ]
    }
   ],
   "source": [
    "list1=[1,2,3,4,5]\n",
    "list2=[]\n",
    "while(len(list1)>0):\n",
    "    list2.append(list1[0])\n",
    "    del list1[0]\n",
    "    print(list1)\n",
    "    print(list2)"
   ]
  },
  {
   "cell_type": "markdown",
   "metadata": {},
   "source": [
    "## string functions"
   ]
  },
  {
   "cell_type": "code",
   "execution_count": 17,
   "metadata": {},
   "outputs": [
    {
     "name": "stdout",
     "output_type": "stream",
     "text": [
      "H\n",
      "e\n",
      "l\n",
      "l\n",
      "Hel\n",
      "lo\n",
      "olleH\n",
      "Hello\n"
     ]
    }
   ],
   "source": [
    "str1=\"Hello\"\n",
    "print(str1[0])\n",
    "print(str1[1])\n",
    "print(str1[2])\n",
    "print(str1[3])\n",
    "print(str1[:3])\n",
    "print(str1[3:])\n",
    "print(str1[::-1])\n",
    "print(str1[::1])"
   ]
  },
  {
   "cell_type": "code",
   "execution_count": 21,
   "metadata": {},
   "outputs": [
    {
     "name": "stdout",
     "output_type": "stream",
     "text": [
      "H\n",
      "e\n",
      "l\n",
      "l\n",
      "o\n"
     ]
    }
   ],
   "source": [
    "for alpha in str1:\n",
    "    print(alpha,sep =\"\\t\")"
   ]
  },
  {
   "cell_type": "code",
   "execution_count": 26,
   "metadata": {},
   "outputs": [
    {
     "name": "stdout",
     "output_type": "stream",
     "text": [
      "hello*world*gud*morning\thw r u?\n"
     ]
    }
   ],
   "source": [
    "print(\"hello\",\"world\",\"gud\",\"morning\" ,sep=\"*\", end=\"\\t\")\n",
    "print(\"hw r u?\")"
   ]
  },
  {
   "cell_type": "code",
   "execution_count": 27,
   "metadata": {},
   "outputs": [
    {
     "name": "stdout",
     "output_type": "stream",
     "text": [
      "True\n",
      "False\n",
      "correct\n"
     ]
    }
   ],
   "source": [
    "str1 =\"cat is an animal with whiskers \"\n",
    "print(str1.startswith(\"cat\"))\n",
    "print(str1.endswith(\"cat\"))\n",
    "\n",
    "if str1.startswith(\"CAt\"):\n",
    "    print(\"not correct!!!\")\n",
    "else:\n",
    "    print(\"correct\")"
   ]
  },
  {
   "cell_type": "code",
   "execution_count": 28,
   "metadata": {},
   "outputs": [
    {
     "name": "stdout",
     "output_type": "stream",
     "text": [
      "False\n"
     ]
    }
   ],
   "source": [
    "print(str1.endswith(\"whiskers\", -10,4))"
   ]
  },
  {
   "cell_type": "code",
   "execution_count": 31,
   "metadata": {},
   "outputs": [
    {
     "name": "stdout",
     "output_type": "stream",
     "text": [
      "False\n",
      "True\n",
      "False\n",
      "True\n",
      "False\n",
      "False\n",
      "mixed case\n",
      "HELLO\n",
      "hello\n"
     ]
    }
   ],
   "source": [
    "str1=\"HELLO\"\n",
    "str2=\"hello\"\n",
    "str3=\"HellO\"\n",
    "\n",
    "print(str1.islower())\n",
    "print(str2.islower())\n",
    "print(str3.islower())\n",
    "\n",
    "print(str1.isupper())\n",
    "print(str2.isupper())\n",
    "print(str3.isupper())\n",
    "\n",
    "if str3.isupper():\n",
    "    print(\"upper case\")\n",
    "elif str3.islower():\n",
    "    print(\"lower case\")\n",
    "else:\n",
    "    print(\"mixed case\")\n",
    "    \n",
    "print(str2.upper())\n",
    "print(str1.lower())"
   ]
  },
  {
   "cell_type": "markdown",
   "metadata": {},
   "source": [
    "## replace,join,split functions"
   ]
  },
  {
   "cell_type": "code",
   "execution_count": 32,
   "metadata": {},
   "outputs": [
    {
     "name": "stdout",
     "output_type": "stream",
     "text": [
      "I like programming\n",
      "I love programming\n",
      "I like programming.I like python.I like me\n",
      "I love programming.I love python.I like me\n"
     ]
    }
   ],
   "source": [
    "str1 = \"I like programming\"\n",
    "print(str1)\n",
    "strnew = str1.replace(\"like\",\"love\")\n",
    "print(strnew)\n",
    "\n",
    "str1=\"I like programming.I like python.I like me\"\n",
    "print(str1)\n",
    "strnew= str1.replace(\"like\",\"love\",2)  #replace only in 2 places\n",
    "print(strnew)"
   ]
  },
  {
   "cell_type": "code",
   "execution_count": 37,
   "metadata": {},
   "outputs": [
    {
     "name": "stdout",
     "output_type": "stream",
     "text": [
      "02-08-2020\n",
      "02--08--2020\n",
      "02\t08\t2020\n"
     ]
    }
   ],
   "source": [
    "list1 = [\"02\",\"08\",\"2020\"]\n",
    "\n",
    "date = \"-\".join(list1)\n",
    "print(date)\n",
    "\n",
    "sep=\"--\"\n",
    "date2= sep.join(list1)\n",
    "print(date2)\n",
    "\n",
    "date3=\"\\t\".join((\"02\",\"08\",\"2020\"))\n",
    "print(date3)"
   ]
  },
  {
   "cell_type": "code",
   "execution_count": 43,
   "metadata": {},
   "outputs": [
    {
     "name": "stdout",
     "output_type": "stream",
     "text": [
      "dog,cat,koushi,cow\n",
      "<class 'str'>\n",
      "['dog', 'cat', 'koushi', 'cow']\n",
      "<class 'list'>\n",
      "['dog', 'cat', 'koushi,cow']\n"
     ]
    }
   ],
   "source": [
    "str1=\"dog,cat,koushi,cow\"\n",
    "print(str1)\n",
    "print(type(str1))\n",
    "print(str1.split(','))\n",
    "print(type(str1.split(',')))\n",
    "print(str1.split(',',2))"
   ]
  }
 ],
 "metadata": {
  "kernelspec": {
   "display_name": "Python 3",
   "language": "python",
   "name": "python3"
  },
  "language_info": {
   "codemirror_mode": {
    "name": "ipython",
    "version": 3
   },
   "file_extension": ".py",
   "mimetype": "text/x-python",
   "name": "python",
   "nbconvert_exporter": "python",
   "pygments_lexer": "ipython3",
   "version": "3.8.5"
  }
 },
 "nbformat": 4,
 "nbformat_minor": 4
}
